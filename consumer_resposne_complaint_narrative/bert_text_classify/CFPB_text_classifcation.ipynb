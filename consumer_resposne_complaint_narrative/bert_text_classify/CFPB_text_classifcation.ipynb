{
 "cells": [
  {
   "cell_type": "code",
   "execution_count": 1,
   "id": "2bbe0637",
   "metadata": {},
   "outputs": [],
   "source": [
    "%%capture\n",
    "!pip install transformers"
   ]
  },
  {
   "cell_type": "code",
   "execution_count": 2,
   "id": "8e3367bf",
   "metadata": {},
   "outputs": [],
   "source": [
    "import pandas as pd\n",
    "import torch\n",
    "import numpy as np\n",
    "from transformers import BertTokenizer, BertModel\n",
    "from torch import nn\n",
    "from torch.optim import Adam\n",
    "from tqdm import tqdm"
   ]
  },
  {
   "cell_type": "code",
   "execution_count": 3,
   "id": "0c69e10a",
   "metadata": {},
   "outputs": [
    {
     "name": "stderr",
     "output_type": "stream",
     "text": [
      "/home/ec2-user/anaconda3/envs/pytorch_p38/lib/python3.8/site-packages/IPython/core/interactiveshell.py:3524: DtypeWarning: Columns (9) have mixed types.Specify dtype option on import or set low_memory=False.\n",
      "  exec(code_obj, self.user_global_ns, self.user_ns)\n"
     ]
    }
   ],
   "source": [
    "bucket ='bert-readability'\n",
    "data_key = 'text-classification/complaints.csv'\n",
    "data_location = 's3://{}/{}'.format(bucket, data_key)\n",
    "df = pd.read_csv(data_location)"
   ]
  },
  {
   "cell_type": "code",
   "execution_count": 5,
   "id": "5499dfc6",
   "metadata": {},
   "outputs": [
    {
     "data": {
      "text/plain": [
       "<AxesSubplot:xlabel='Company_response_to_consumer'>"
      ]
     },
     "execution_count": 5,
     "metadata": {},
     "output_type": "execute_result"
    },
    {
     "data": {
      "image/png": "[encoded data removed]",
      "text/plain": [
       "<Figure size 432x288 with 1 Axes>"
      ]
     },
     "metadata": {
      "needs_background": "light"
     },
     "output_type": "display_data"
    }
   ],
   "source": [
    "df.groupby(['Company_response_to_consumer']).size().plot.bar()"
   ]
  },
  {
   "cell_type": "code",
   "execution_count": 4,
   "id": "c23a159a",
   "metadata": {},
   "outputs": [
    {
     "data": {
      "text/plain": [
       "(1048575, 18)"
      ]
     },
     "execution_count": 4,
     "metadata": {},
     "output_type": "execute_result"
    }
   ],
   "source": [
    "df.shape"
   ]
  },
  {
   "cell_type": "code",
   "execution_count": 6,
   "id": "556c8173",
   "metadata": {},
   "outputs": [],
   "source": [
    "# Column Cleaning First. Columns are super nastily named\n",
    "df.rename(columns={'Date_received':'DATE_RECEIVED',\n",
    "                  'Product':'PRODUCT',\n",
    "                  'Subproduct':'SUB_PRODUCT',\n",
    "                  'Issue':'ISSUE',\n",
    "                  'Sub_issue':'SUB_ISSUE',\n",
    "                  'Consumer_complaint_narrative':'CONSUMER_COMPLAINT_NARRATIVE',\n",
    "                  'Company_public_response':'COMPANY_PUBLIC_RESPONSE',\n",
    "                   'Company':'COMPANY',\n",
    "                   'State':'STATE',\n",
    "                   'ZIP code':'ZIP_CODE',\n",
    "                   'Tags':'TAGS',\n",
    "                   'Consumer_consent_provided':'CONSUMER_CONSENT_PROVIDED',\n",
    "                   'Subbmited via':'SUBMITTED_VIA',\n",
    "                   'Date_sent_to_company':'DATE_SENT_TO_COMPANY',\n",
    "                   'Company_response_to_consumer':'COMPANY_RESPONSE_TO_CONSUMER',\n",
    "                   'Timely_response':'TIMELY_RESPONSE',\n",
    "                   'Consumer_disputed':'CONSUMER_DISPUTED',\n",
    "                   'Complaint_ID':'COMPLAINT_ID'\n",
    "                  }, inplace=True)\n",
    "\n"
   ]
  },
  {
   "cell_type": "code",
   "execution_count": 8,
   "id": "a4139468",
   "metadata": {},
   "outputs": [
    {
     "data": {
      "text/plain": [
       "DATE_RECEIVED                    0.000000\n",
       "PRODUCT                          0.000000\n",
       "SUB_PRODUCT                      0.732709\n",
       "ISSUE                            0.000000\n",
       "SUB_ISSUE                       11.340152\n",
       "CONSUMER_COMPLAINT_NARRATIVE    52.257206\n",
       "COMPANY_PUBLIC_RESPONSE         49.292802\n",
       "COMPANY                          0.000000\n",
       "STATE                            1.579477\n",
       "ZIP_code                         1.592256\n",
       "TAGS                            88.417519\n",
       "CONSUMER_CONSENT_PROVIDED       11.936390\n",
       "Submitted via                    0.000000\n",
       "DATE_SENT_TO_COMPANY             0.000000\n",
       "COMPANY_RESPONSE_TO_CONSUMER     0.000286\n",
       "TIMELY_RESPONSE                  0.000000\n",
       "CONSUMER_DISPUTED               97.616861\n",
       "COMPLAINT_ID                     0.000000\n",
       "dtype: float64"
      ]
     },
     "execution_count": 8,
     "metadata": {},
     "output_type": "execute_result"
    }
   ],
   "source": [
    "# Percentage of missing column values\n",
    "null_check_percent = df.isnull().sum() * 100 / len(df)\n",
    "null_check_percent"
   ]
  },
  {
   "cell_type": "markdown",
   "id": "36c0e65f",
   "metadata": {},
   "source": [
    "# Dropping all rows that do not have Customer Complaint entries in them\n",
    "\n",
    "Dropping all rows that do not have Customer Complaint entries in them"
   ]
  },
  {
   "cell_type": "code",
   "execution_count": 10,
   "id": "645efbdf",
   "metadata": {},
   "outputs": [
    {
     "data": {
      "text/plain": [
       "DATE_RECEIVED                    0.000000\n",
       "PRODUCT                          0.000000\n",
       "SUB_PRODUCT                      0.784229\n",
       "ISSUE                            0.000000\n",
       "SUB_ISSUE                       14.255951\n",
       "CONSUMER_COMPLAINT_NARRATIVE     0.000000\n",
       "COMPANY_PUBLIC_RESPONSE         51.433126\n",
       "COMPANY                          0.000000\n",
       "STATE                            0.496585\n",
       "ZIP_code                         0.528146\n",
       "TAGS                            84.484608\n",
       "CONSUMER_CONSENT_PROVIDED        0.000000\n",
       "Submitted via                    0.000000\n",
       "DATE_SENT_TO_COMPANY             0.000000\n",
       "COMPANY_RESPONSE_TO_CONSUMER     0.000200\n",
       "TIMELY_RESPONSE                  0.000000\n",
       "CONSUMER_DISPUTED               97.439370\n",
       "COMPLAINT_ID                     0.000000\n",
       "dtype: float64"
      ]
     },
     "execution_count": 10,
     "metadata": {},
     "output_type": "execute_result"
    }
   ],
   "source": [
    "# remove articles with missing \"CONSUMER_COMPLAINT_NARRATIVE\"\n",
    "df = df.dropna(subset = ['CONSUMER_COMPLAINT_NARRATIVE'])\n",
    "df = df.reset_index(drop = True)\n",
    "null_check_percent = df.isnull().sum() * 100 / len(df)\n",
    "null_check_percent\n"
   ]
  },
  {
   "cell_type": "code",
   "execution_count": 11,
   "id": "e9d2e44b",
   "metadata": {},
   "outputs": [
    {
     "data": {
      "text/plain": [
       "(500619, 18)"
      ]
     },
     "execution_count": 11,
     "metadata": {},
     "output_type": "execute_result"
    }
   ],
   "source": [
    "df.shape"
   ]
  },
  {
   "cell_type": "code",
   "execution_count": 12,
   "id": "62699e02",
   "metadata": {},
   "outputs": [
    {
     "data": {
      "text/plain": [
       "547956"
      ]
     },
     "execution_count": 12,
     "metadata": {},
     "output_type": "execute_result"
    }
   ],
   "source": [
    "1048575 - 500619  # all_complaints - complaints with narratives =  complaints without narratives (547956)"
   ]
  },
  {
   "cell_type": "code",
   "execution_count": 13,
   "id": "3d088bb5",
   "metadata": {},
   "outputs": [
    {
     "data": {
      "text/plain": [
       "<AxesSubplot:xlabel='COMPANY_RESPONSE_TO_CONSUMER'>"
      ]
     },
     "execution_count": 13,
     "metadata": {},
     "output_type": "execute_result"
    },
    {
     "data": {
      "image/png": "[encoded data removed]",
      "text/plain": [
       "<Figure size 432x288 with 1 Axes>"
      ]
     },
     "metadata": {
      "needs_background": "light"
     },
     "output_type": "display_data"
    }
   ],
   "source": [
    "df.groupby(['COMPANY_RESPONSE_TO_CONSUMER']).size().plot.bar()"
   ]
  },
  {
   "cell_type": "markdown",
   "id": "589219dd",
   "metadata": {},
   "source": [
    "From the above graph, we will focus on 2 categories only:\n",
    "1. Closed with monetary relief\n",
    "2. Closed with non-monetary relief"
   ]
  },
  {
   "cell_type": "markdown",
   "id": "06f21fda",
   "metadata": {},
   "source": [
    "# Subsetting Dataframe for Text Multi-Classification Problem"
   ]
  },
  {
   "cell_type": "code",
   "execution_count": 14,
   "id": "ada4ca1a",
   "metadata": {},
   "outputs": [
    {
     "name": "stderr",
     "output_type": "stream",
     "text": [
      "/home/ec2-user/anaconda3/envs/pytorch_p38/lib/python3.8/site-packages/pandas/core/frame.py:5039: SettingWithCopyWarning: \n",
      "A value is trying to be set on a copy of a slice from a DataFrame\n",
      "\n",
      "See the caveats in the documentation: https://pandas.pydata.org/pandas-docs/stable/user_guide/indexing.html#returning-a-view-versus-a-copy\n",
      "  return super().rename(\n"
     ]
    }
   ],
   "source": [
    "# Subsetting dataframe into columns useful for our text multi-classification problem\n",
    "df_response_and_complaint = df[['COMPANY_RESPONSE_TO_CONSUMER', 'CONSUMER_COMPLAINT_NARRATIVE']]\n",
    "\n",
    "# Renaming columns to something easier\n",
    "df_response_and_complaint.rename(columns={'CONSUMER_COMPLAINT_NARRATIVE':'CONSUMER_COMPLAINT'},inplace=True) \n",
    "df.rename(columns={'CONSUMER_COMPLAINT_NARRATIVE':'CONSUMER_COMPLAINT'},inplace=True)"
   ]
  },
  {
   "cell_type": "code",
   "execution_count": 15,
   "id": "3a0331ca",
   "metadata": {},
   "outputs": [
    {
     "data": {
      "text/html": [
       "<div>\n",
       "<style scoped>\n",
       "    .dataframe tbody tr th:only-of-type {\n",
       "        vertical-align: middle;\n",
       "    }\n",
       "\n",
       "    .dataframe tbody tr th {\n",
       "        vertical-align: top;\n",
       "    }\n",
       "\n",
       "    .dataframe thead th {\n",
       "        text-align: right;\n",
       "    }\n",
       "</style>\n",
       "<table border=\"1\" class=\"dataframe\">\n",
       "  <thead>\n",
       "    <tr style=\"text-align: right;\">\n",
       "      <th></th>\n",
       "      <th>DATE_RECEIVED</th>\n",
       "      <th>PRODUCT</th>\n",
       "      <th>SUB_PRODUCT</th>\n",
       "      <th>ISSUE</th>\n",
       "      <th>SUB_ISSUE</th>\n",
       "      <th>CONSUMER_COMPLAINT</th>\n",
       "      <th>COMPANY_PUBLIC_RESPONSE</th>\n",
       "      <th>COMPANY</th>\n",
       "      <th>STATE</th>\n",
       "      <th>ZIP_code</th>\n",
       "      <th>TAGS</th>\n",
       "      <th>CONSUMER_CONSENT_PROVIDED</th>\n",
       "      <th>Submitted via</th>\n",
       "      <th>DATE_SENT_TO_COMPANY</th>\n",
       "      <th>COMPANY_RESPONSE_TO_CONSUMER</th>\n",
       "      <th>TIMELY_RESPONSE</th>\n",
       "      <th>CONSUMER_DISPUTED</th>\n",
       "      <th>COMPLAINT_ID</th>\n",
       "    </tr>\n",
       "  </thead>\n",
       "  <tbody>\n",
       "    <tr>\n",
       "      <th>0</th>\n",
       "      <td>18-08-2019</td>\n",
       "      <td>Credit reporting, credit repair services, or o...</td>\n",
       "      <td>Credit reporting</td>\n",
       "      <td>Problem with a credit reporting company's inve...</td>\n",
       "      <td>Their investigation did not fix an error on yo...</td>\n",
       "      <td>TransUnion, LLC conducted an investigation int...</td>\n",
       "      <td>Company has responded to the consumer and the ...</td>\n",
       "      <td>TRANSUNION INTERMEDIATE HOLDINGS, INC.</td>\n",
       "      <td>CA</td>\n",
       "      <td>90640.0</td>\n",
       "      <td>NaN</td>\n",
       "      <td>Consent provided</td>\n",
       "      <td>Web</td>\n",
       "      <td>18-08-2019</td>\n",
       "      <td>Closed with explanation</td>\n",
       "      <td>Yes</td>\n",
       "      <td>NaN</td>\n",
       "      <td>3345092</td>\n",
       "    </tr>\n",
       "  </tbody>\n",
       "</table>\n",
       "</div>"
      ],
      "text/plain": [
       "  DATE_RECEIVED                                            PRODUCT  \\\n",
       "0    18-08-2019  Credit reporting, credit repair services, or o...   \n",
       "\n",
       "        SUB_PRODUCT                                              ISSUE  \\\n",
       "0  Credit reporting  Problem with a credit reporting company's inve...   \n",
       "\n",
       "                                           SUB_ISSUE  \\\n",
       "0  Their investigation did not fix an error on yo...   \n",
       "\n",
       "                                  CONSUMER_COMPLAINT  \\\n",
       "0  TransUnion, LLC conducted an investigation int...   \n",
       "\n",
       "                             COMPANY_PUBLIC_RESPONSE  \\\n",
       "0  Company has responded to the consumer and the ...   \n",
       "\n",
       "                                  COMPANY STATE ZIP_code TAGS  \\\n",
       "0  TRANSUNION INTERMEDIATE HOLDINGS, INC.    CA  90640.0  NaN   \n",
       "\n",
       "  CONSUMER_CONSENT_PROVIDED Submitted via DATE_SENT_TO_COMPANY  \\\n",
       "0          Consent provided           Web           18-08-2019   \n",
       "\n",
       "  COMPANY_RESPONSE_TO_CONSUMER TIMELY_RESPONSE CONSUMER_DISPUTED  COMPLAINT_ID  \n",
       "0      Closed with explanation             Yes               NaN       3345092  "
      ]
     },
     "execution_count": 15,
     "metadata": {},
     "output_type": "execute_result"
    }
   ],
   "source": [
    "df.head(1)"
   ]
  },
  {
   "cell_type": "code",
   "execution_count": 16,
   "id": "889a77cd",
   "metadata": {},
   "outputs": [],
   "source": [
    "# Subsetting dataframe into columns useful for our text multi-classification problem\n",
    "df_response_and_complaint = df[['COMPANY_RESPONSE_TO_CONSUMER', 'CONSUMER_COMPLAINT']]"
   ]
  },
  {
   "cell_type": "code",
   "execution_count": 17,
   "id": "e4babfa8",
   "metadata": {},
   "outputs": [
    {
     "data": {
      "text/html": [
       "<div>\n",
       "<style scoped>\n",
       "    .dataframe tbody tr th:only-of-type {\n",
       "        vertical-align: middle;\n",
       "    }\n",
       "\n",
       "    .dataframe tbody tr th {\n",
       "        vertical-align: top;\n",
       "    }\n",
       "\n",
       "    .dataframe thead th {\n",
       "        text-align: right;\n",
       "    }\n",
       "</style>\n",
       "<table border=\"1\" class=\"dataframe\">\n",
       "  <thead>\n",
       "    <tr style=\"text-align: right;\">\n",
       "      <th></th>\n",
       "      <th>COMPANY_RESPONSE_TO_CONSUMER</th>\n",
       "      <th>CONSUMER_COMPLAINT</th>\n",
       "    </tr>\n",
       "  </thead>\n",
       "  <tbody>\n",
       "    <tr>\n",
       "      <th>0</th>\n",
       "      <td>Closed with explanation</td>\n",
       "      <td>TransUnion, LLC conducted an investigation int...</td>\n",
       "    </tr>\n",
       "    <tr>\n",
       "      <th>1</th>\n",
       "      <td>Closed with explanation</td>\n",
       "      <td>I have recently been informed again that there...</td>\n",
       "    </tr>\n",
       "    <tr>\n",
       "      <th>2</th>\n",
       "      <td>Closed with explanation</td>\n",
       "      <td>In XXXX I had a loan modification with wellsfa...</td>\n",
       "    </tr>\n",
       "  </tbody>\n",
       "</table>\n",
       "</div>"
      ],
      "text/plain": [
       "  COMPANY_RESPONSE_TO_CONSUMER  \\\n",
       "0      Closed with explanation   \n",
       "1      Closed with explanation   \n",
       "2      Closed with explanation   \n",
       "\n",
       "                                  CONSUMER_COMPLAINT  \n",
       "0  TransUnion, LLC conducted an investigation int...  \n",
       "1  I have recently been informed again that there...  \n",
       "2  In XXXX I had a loan modification with wellsfa...  "
      ]
     },
     "execution_count": 17,
     "metadata": {},
     "output_type": "execute_result"
    }
   ],
   "source": [
    "df_response_and_complaint.head(3)"
   ]
  },
  {
   "cell_type": "code",
   "execution_count": null,
   "id": "0048ac88",
   "metadata": {},
   "outputs": [],
   "source": [
    "import pickle \n",
    "\n",
    "# # Pickling our subsetted dataframe\n",
    "with open('df_response_and_complaint.pickle', 'wb') as to_write:\n",
    "     pickle.dump(df_response_and_complaint, to_write)"
   ]
  },
  {
   "cell_type": "code",
   "execution_count": null,
   "id": "eb17ff96",
   "metadata": {},
   "outputs": [],
   "source": [
    "# Loading our pickled subsetted dataframe\n",
    "with open('df_response_and_complaint.pickle', 'rb') as to_read:\n",
    "    df_response_and_complaint = pickle.load(to_read)"
   ]
  },
  {
   "cell_type": "markdown",
   "id": "811e0c25",
   "metadata": {},
   "source": [
    "# Understanding/Cleaning Our Data"
   ]
  },
  {
   "cell_type": "code",
   "execution_count": 18,
   "id": "3144b582",
   "metadata": {},
   "outputs": [
    {
     "name": "stdout",
     "output_type": "stream",
     "text": [
      "<class 'pandas.core.frame.DataFrame'>\n",
      "RangeIndex: 500619 entries, 0 to 500618\n",
      "Data columns (total 2 columns):\n",
      " #   Column                        Non-Null Count   Dtype \n",
      "---  ------                        --------------   ----- \n",
      " 0   COMPANY_RESPONSE_TO_CONSUMER  500618 non-null  object\n",
      " 1   CONSUMER_COMPLAINT            500619 non-null  object\n",
      "dtypes: object(2)\n",
      "memory usage: 7.6+ MB\n"
     ]
    }
   ],
   "source": [
    "# Checking our dataframe\n",
    "df_response_and_complaint.info()\n",
    "\n",
    "# Great! We have no null values in each column"
   ]
  },
  {
   "cell_type": "code",
   "execution_count": 19,
   "id": "588146fb",
   "metadata": {},
   "outputs": [
    {
     "data": {
      "text/plain": [
       "Closed with explanation            429229\n",
       "Closed with non-monetary relief     47583\n",
       "Closed with monetary relief         20814\n",
       "Untimely response                    2620\n",
       "Closed                                350\n",
       "In progress                            22\n",
       "Name: COMPANY_RESPONSE_TO_CONSUMER, dtype: int64"
      ]
     },
     "execution_count": 19,
     "metadata": {},
     "output_type": "execute_result"
    }
   ],
   "source": [
    "# Pre-drop category value_counts\n",
    "df_response_and_complaint.COMPANY_RESPONSE_TO_CONSUMER.value_counts()"
   ]
  },
  {
   "cell_type": "code",
   "execution_count": 20,
   "id": "c0cd82d5",
   "metadata": {},
   "outputs": [
    {
     "name": "stderr",
     "output_type": "stream",
     "text": [
      "/home/ec2-user/anaconda3/envs/pytorch_p38/lib/python3.8/site-packages/pandas/core/frame.py:4906: SettingWithCopyWarning: \n",
      "A value is trying to be set on a copy of a slice from a DataFrame\n",
      "\n",
      "See the caveats in the documentation: https://pandas.pydata.org/pandas-docs/stable/user_guide/indexing.html#returning-a-view-versus-a-copy\n",
      "  return super().drop(\n"
     ]
    }
   ],
   "source": [
    "# Dropping rows with the aggregated columns\n",
    "df_response_and_complaint.drop(\n",
    "    df_response_and_complaint[\n",
    "    df_response_and_complaint.COMPANY_RESPONSE_TO_CONSUMER == \n",
    "    'In progress'].index, \n",
    "    inplace=True) # In progress  \n",
    "\n",
    "df_response_and_complaint.drop(\n",
    "    df_response_and_complaint[\n",
    "    df_response_and_complaint.COMPANY_RESPONSE_TO_CONSUMER == \n",
    "    'Closed'].index, \n",
    "    inplace=True) # Closed  \n",
    "\n",
    "df_response_and_complaint.drop(\n",
    "    df_response_and_complaint[\n",
    "    df_response_and_complaint.COMPANY_RESPONSE_TO_CONSUMER == \n",
    "    'Untimely response'].index, \n",
    "    inplace=True) # Untimely response\n",
    "\n",
    "\n",
    "df_response_and_complaint.drop(\n",
    "    df_response_and_complaint[\n",
    "    df_response_and_complaint.COMPANY_RESPONSE_TO_CONSUMER == \n",
    "    'Closed with explanation'].index, \n",
    "    inplace=True) # Closed with explanation "
   ]
  },
  {
   "cell_type": "code",
   "execution_count": 21,
   "id": "d4f92d2f",
   "metadata": {},
   "outputs": [
    {
     "data": {
      "text/plain": [
       "Closed with non-monetary relief    47583\n",
       "Closed with monetary relief        20814\n",
       "Name: COMPANY_RESPONSE_TO_CONSUMER, dtype: int64"
      ]
     },
     "execution_count": 21,
     "metadata": {},
     "output_type": "execute_result"
    }
   ],
   "source": [
    "df_response_and_complaint.COMPANY_RESPONSE_TO_CONSUMER.value_counts()"
   ]
  },
  {
   "cell_type": "code",
   "execution_count": 22,
   "id": "17f0eb5a",
   "metadata": {},
   "outputs": [],
   "source": [
    "# Reducing dataframe to 30k entries\n",
    "# Need to reduce non-monetory categories by 56.26%\n",
    "# ( 20814 /  47583) x 100 =  43.74%     and, (100 - ) = 56.26%\n",
    "percentage_reduction = 0.5626\n",
    "\n",
    "# Debt Collection Reduction\n",
    "df_response_and_complaint_reduced = \\\n",
    "df_response_and_complaint.drop(\n",
    "    df_response_and_complaint[df_response_and_complaint['COMPANY_RESPONSE_TO_CONSUMER'] == 'Closed with non-monetary relief'].sample(frac=percentage_reduction).index)"
   ]
  },
  {
   "cell_type": "code",
   "execution_count": 23,
   "id": "c7089099",
   "metadata": {},
   "outputs": [
    {
     "data": {
      "text/plain": [
       "Closed with monetary relief        20814\n",
       "Closed with non-monetary relief    20813\n",
       "Name: COMPANY_RESPONSE_TO_CONSUMER, dtype: int64"
      ]
     },
     "execution_count": 23,
     "metadata": {},
     "output_type": "execute_result"
    }
   ],
   "source": [
    "df_response_and_complaint_reduced.COMPANY_RESPONSE_TO_CONSUMER.value_counts()"
   ]
  },
  {
   "cell_type": "code",
   "execution_count": 24,
   "id": "c3f5ea10",
   "metadata": {},
   "outputs": [
    {
     "data": {
      "text/plain": [
       "Text(0.5, 0, 'NUMBER OF COMPLAINTS')"
      ]
     },
     "execution_count": 24,
     "metadata": {},
     "output_type": "execute_result"
    },
    {
     "data": {
      "image/png": "[encoded data removed]",
      "text/plain": [
       "<Figure size 720x576 with 1 Axes>"
      ]
     },
     "metadata": {
      "needs_background": "light"
     },
     "output_type": "display_data"
    }
   ],
   "source": [
    "# Graph plotting\n",
    "import matplotlib.pyplot as plt\n",
    "import seaborn as sns\n",
    "\n",
    "# Displaying dataframes\n",
    "from IPython.display import display\n",
    "\n",
    "fig, ax = plt.subplots(figsize=(10,8))\n",
    "\n",
    "ax = sns.countplot(y='COMPANY_RESPONSE_TO_CONSUMER', \n",
    "                   data=df_response_and_complaint_reduced, \n",
    "                   order=df_response_and_complaint_reduced['COMPANY_RESPONSE_TO_CONSUMER'].value_counts().index,\n",
    "                   palette='rocket'     # change the color of this graph LATER   \n",
    "                  )\n",
    "\n",
    "ax.set_title('NUMBER OF COMPLAINTS IN EACH CATEGORY',size=15)\n",
    "\n",
    "# Setting labels\n",
    "# Dealing with y-labels\n",
    "ax.set_ylabel('COMPLAINT', rotation=0, labelpad=40, size=14)\n",
    "              \n",
    "# Dealing with x-labels\n",
    "ax.set_xlabel('NUMBER OF COMPLAINTS', size=14)"
   ]
  },
  {
   "cell_type": "markdown",
   "id": "295ca34d",
   "metadata": {},
   "source": [
    "# Label Encoding Categories"
   ]
  },
  {
   "cell_type": "code",
   "execution_count": 52,
   "id": "3de7b798",
   "metadata": {},
   "outputs": [
    {
     "data": {
      "text/html": [
       "<div>\n",
       "<style scoped>\n",
       "    .dataframe tbody tr th:only-of-type {\n",
       "        vertical-align: middle;\n",
       "    }\n",
       "\n",
       "    .dataframe tbody tr th {\n",
       "        vertical-align: top;\n",
       "    }\n",
       "\n",
       "    .dataframe thead th {\n",
       "        text-align: right;\n",
       "    }\n",
       "</style>\n",
       "<table border=\"1\" class=\"dataframe\">\n",
       "  <thead>\n",
       "    <tr style=\"text-align: right;\">\n",
       "      <th></th>\n",
       "      <th>COMPANY_RESPONSE_TO_CONSUMER</th>\n",
       "      <th>CONSUMER_COMPLAINT</th>\n",
       "      <th>COMPANY_RESPONSE_CATEGORY</th>\n",
       "    </tr>\n",
       "  </thead>\n",
       "  <tbody>\n",
       "    <tr>\n",
       "      <th>15</th>\n",
       "      <td>Closed with monetary relief</td>\n",
       "      <td>On XX/XX/10 my account was negative about {$8....</td>\n",
       "      <td>0</td>\n",
       "    </tr>\n",
       "    <tr>\n",
       "      <th>23</th>\n",
       "      <td>Closed with monetary relief</td>\n",
       "      <td>MoneyLion told the CFPB on XX/XX/XXXX that the...</td>\n",
       "      <td>0</td>\n",
       "    </tr>\n",
       "    <tr>\n",
       "      <th>32</th>\n",
       "      <td>Closed with monetary relief</td>\n",
       "      <td>In XX/XX/2019 I did not receive my billing sta...</td>\n",
       "      <td>0</td>\n",
       "    </tr>\n",
       "    <tr>\n",
       "      <th>33</th>\n",
       "      <td>Closed with non-monetary relief</td>\n",
       "      <td>I applied for credit at my credit union and th...</td>\n",
       "      <td>1</td>\n",
       "    </tr>\n",
       "    <tr>\n",
       "      <th>61</th>\n",
       "      <td>Closed with non-monetary relief</td>\n",
       "      <td>I received a collection attempt from \" XXXX XX...</td>\n",
       "      <td>1</td>\n",
       "    </tr>\n",
       "    <tr>\n",
       "      <th>67</th>\n",
       "      <td>Closed with non-monetary relief</td>\n",
       "      <td>IhavespokenwithNavientcustomerservicetoaskabou...</td>\n",
       "      <td>1</td>\n",
       "    </tr>\n",
       "    <tr>\n",
       "      <th>80</th>\n",
       "      <td>Closed with monetary relief</td>\n",
       "      <td>Google ( 1 ) suspended my payments account wit...</td>\n",
       "      <td>0</td>\n",
       "    </tr>\n",
       "    <tr>\n",
       "      <th>87</th>\n",
       "      <td>Closed with non-monetary relief</td>\n",
       "      <td>Wells Fargo is reporting incorrect accounts to...</td>\n",
       "      <td>1</td>\n",
       "    </tr>\n",
       "    <tr>\n",
       "      <th>91</th>\n",
       "      <td>Closed with monetary relief</td>\n",
       "      <td>XX/XX/19 Contacted Capital One Dispute Resolut...</td>\n",
       "      <td>0</td>\n",
       "    </tr>\n",
       "    <tr>\n",
       "      <th>97</th>\n",
       "      <td>Closed with monetary relief</td>\n",
       "      <td>On XX/XX/XXXX I tried to make a balance transf...</td>\n",
       "      <td>0</td>\n",
       "    </tr>\n",
       "  </tbody>\n",
       "</table>\n",
       "</div>"
      ],
      "text/plain": [
       "       COMPANY_RESPONSE_TO_CONSUMER  \\\n",
       "15      Closed with monetary relief   \n",
       "23      Closed with monetary relief   \n",
       "32      Closed with monetary relief   \n",
       "33  Closed with non-monetary relief   \n",
       "61  Closed with non-monetary relief   \n",
       "67  Closed with non-monetary relief   \n",
       "80      Closed with monetary relief   \n",
       "87  Closed with non-monetary relief   \n",
       "91      Closed with monetary relief   \n",
       "97      Closed with monetary relief   \n",
       "\n",
       "                                   CONSUMER_COMPLAINT  \\\n",
       "15  On XX/XX/10 my account was negative about {$8....   \n",
       "23  MoneyLion told the CFPB on XX/XX/XXXX that the...   \n",
       "32  In XX/XX/2019 I did not receive my billing sta...   \n",
       "33  I applied for credit at my credit union and th...   \n",
       "61  I received a collection attempt from \" XXXX XX...   \n",
       "67  IhavespokenwithNavientcustomerservicetoaskabou...   \n",
       "80  Google ( 1 ) suspended my payments account wit...   \n",
       "87  Wells Fargo is reporting incorrect accounts to...   \n",
       "91  XX/XX/19 Contacted Capital One Dispute Resolut...   \n",
       "97  On XX/XX/XXXX I tried to make a balance transf...   \n",
       "\n",
       "    COMPANY_RESPONSE_CATEGORY  \n",
       "15                          0  \n",
       "23                          0  \n",
       "32                          0  \n",
       "33                          1  \n",
       "61                          1  \n",
       "67                          1  \n",
       "80                          0  \n",
       "87                          1  \n",
       "91                          0  \n",
       "97                          0  "
      ]
     },
     "execution_count": 52,
     "metadata": {},
     "output_type": "execute_result"
    }
   ],
   "source": [
    "# Applying encoding to the COMPANY_RESPONSE_TO_CONSUMER column\n",
    "df_response_and_complaint_reduced['COMPANY_RESPONSE_CATEGORY'] = df_response_and_complaint_reduced['COMPANY_RESPONSE_TO_CONSUMER'].factorize()[0] \n",
    "\n",
    "#.factorize[0] arranges the index of each encoded number accordingly to the \n",
    "# index of your categorical variables in the COMPANY_RESPONSE_TO_CONSUMER column\n",
    "\n",
    "\n",
    "# Creates a dataframe of the COMPANY_RESPONSE_TO_CONSUMER to their respective COMPANY_RESPONSE_CATEGORY\n",
    "category_id_df = df_response_and_complaint_reduced[['COMPANY_RESPONSE_TO_CONSUMER', 'COMPANY_RESPONSE_CATEGORY']].drop_duplicates()\n",
    "\n",
    "\n",
    "# Dictionaries for future use. Creating our cheatsheets for what each encoded label represents.\n",
    "category_to_id = dict(category_id_df.values) # Creates a COMPANY_RESPONSE_TO_CONSUMER: COMPANY_RESPONSE_CATEGORY key-value pair\n",
    "id_to_category = dict(category_id_df[['COMPANY_RESPONSE_CATEGORY', 'COMPANY_RESPONSE_TO_CONSUMER']].values)  # Creates a COMPANY_RESPONSE_CATEGORY: COMPANY_RESPONSE_TO_CONSUMER key-value pair\n",
    "\n",
    "# New dataframe\n",
    "df_response_and_complaint_reduced.head(10) \n",
    "\n",
    "# Closed with non-monetary relief --> 0\n",
    "# Closed with monetary relief --> 1\n",
    "\n"
   ]
  },
  {
   "cell_type": "code",
   "execution_count": 103,
   "id": "9557667f",
   "metadata": {},
   "outputs": [],
   "source": [
    "# Column Cleaning First. Columns are super nastily named\n",
    "df_response_and_complaint_reduced.rename(columns={'COMPANY_RESPONSE_TO_CONSUMER':'category',\n",
    "                  'CONSUMER_COMPLAINT':'text'\n",
    "                  }, inplace=True)"
   ]
  },
  {
   "cell_type": "code",
   "execution_count": 111,
   "id": "f1811b9d",
   "metadata": {},
   "outputs": [
    {
     "data": {
      "text/html": [
       "<div>\n",
       "<style scoped>\n",
       "    .dataframe tbody tr th:only-of-type {\n",
       "        vertical-align: middle;\n",
       "    }\n",
       "\n",
       "    .dataframe tbody tr th {\n",
       "        vertical-align: top;\n",
       "    }\n",
       "\n",
       "    .dataframe thead th {\n",
       "        text-align: right;\n",
       "    }\n",
       "</style>\n",
       "<table border=\"1\" class=\"dataframe\">\n",
       "  <thead>\n",
       "    <tr style=\"text-align: right;\">\n",
       "      <th></th>\n",
       "      <th>category</th>\n",
       "      <th>text</th>\n",
       "      <th>COMPANY_RESPONSE_CATEGORY</th>\n",
       "    </tr>\n",
       "  </thead>\n",
       "  <tbody>\n",
       "    <tr>\n",
       "      <th>15</th>\n",
       "      <td>Closed with monetary relief</td>\n",
       "      <td>On XX/XX/10 my account was negative about {$8....</td>\n",
       "      <td>0</td>\n",
       "    </tr>\n",
       "    <tr>\n",
       "      <th>23</th>\n",
       "      <td>Closed with monetary relief</td>\n",
       "      <td>MoneyLion told the CFPB on XX/XX/XXXX that the...</td>\n",
       "      <td>0</td>\n",
       "    </tr>\n",
       "    <tr>\n",
       "      <th>32</th>\n",
       "      <td>Closed with monetary relief</td>\n",
       "      <td>In XX/XX/2019 I did not receive my billing sta...</td>\n",
       "      <td>0</td>\n",
       "    </tr>\n",
       "  </tbody>\n",
       "</table>\n",
       "</div>"
      ],
      "text/plain": [
       "                       category  \\\n",
       "15  Closed with monetary relief   \n",
       "23  Closed with monetary relief   \n",
       "32  Closed with monetary relief   \n",
       "\n",
       "                                                 text  \\\n",
       "15  On XX/XX/10 my account was negative about {$8....   \n",
       "23  MoneyLion told the CFPB on XX/XX/XXXX that the...   \n",
       "32  In XX/XX/2019 I did not receive my billing sta...   \n",
       "\n",
       "    COMPANY_RESPONSE_CATEGORY  \n",
       "15                          0  \n",
       "23                          0  \n",
       "32                          0  "
      ]
     },
     "execution_count": 111,
     "metadata": {},
     "output_type": "execute_result"
    }
   ],
   "source": [
    "df_response_and_complaint_reduced.head(3)"
   ]
  },
  {
   "cell_type": "code",
   "execution_count": 107,
   "id": "0bbd8e3c",
   "metadata": {},
   "outputs": [],
   "source": [
    "import pickle\n",
    "# # Pickling reduced dataframe\n",
    "with open('df_response_and_complaint_reduced.pickle', 'wb') as to_write:\n",
    "     pickle.dump(df_response_and_complaint_reduced, to_write)"
   ]
  },
  {
   "cell_type": "code",
   "execution_count": 191,
   "id": "4fac2054",
   "metadata": {},
   "outputs": [],
   "source": [
    "# Loading Pickled DataFrame\n",
    "with open('df_response_and_complaint_reduced.pickle', 'rb') as to_read:\n",
    "    df = pickle.load(to_read)"
   ]
  },
  {
   "cell_type": "code",
   "execution_count": 192,
   "id": "f9590c5d",
   "metadata": {},
   "outputs": [
    {
     "data": {
      "text/html": [
       "<div>\n",
       "<style scoped>\n",
       "    .dataframe tbody tr th:only-of-type {\n",
       "        vertical-align: middle;\n",
       "    }\n",
       "\n",
       "    .dataframe tbody tr th {\n",
       "        vertical-align: top;\n",
       "    }\n",
       "\n",
       "    .dataframe thead th {\n",
       "        text-align: right;\n",
       "    }\n",
       "</style>\n",
       "<table border=\"1\" class=\"dataframe\">\n",
       "  <thead>\n",
       "    <tr style=\"text-align: right;\">\n",
       "      <th></th>\n",
       "      <th>category</th>\n",
       "      <th>text</th>\n",
       "      <th>COMPANY_RESPONSE_CATEGORY</th>\n",
       "    </tr>\n",
       "  </thead>\n",
       "  <tbody>\n",
       "    <tr>\n",
       "      <th>15</th>\n",
       "      <td>Closed with monetary relief</td>\n",
       "      <td>On XX/XX/10 my account was negative about {$8....</td>\n",
       "      <td>0</td>\n",
       "    </tr>\n",
       "    <tr>\n",
       "      <th>23</th>\n",
       "      <td>Closed with monetary relief</td>\n",
       "      <td>MoneyLion told the CFPB on XX/XX/XXXX that the...</td>\n",
       "      <td>0</td>\n",
       "    </tr>\n",
       "    <tr>\n",
       "      <th>32</th>\n",
       "      <td>Closed with monetary relief</td>\n",
       "      <td>In XX/XX/2019 I did not receive my billing sta...</td>\n",
       "      <td>0</td>\n",
       "    </tr>\n",
       "  </tbody>\n",
       "</table>\n",
       "</div>"
      ],
      "text/plain": [
       "                       category  \\\n",
       "15  Closed with monetary relief   \n",
       "23  Closed with monetary relief   \n",
       "32  Closed with monetary relief   \n",
       "\n",
       "                                                 text  \\\n",
       "15  On XX/XX/10 my account was negative about {$8....   \n",
       "23  MoneyLion told the CFPB on XX/XX/XXXX that the...   \n",
       "32  In XX/XX/2019 I did not receive my billing sta...   \n",
       "\n",
       "    COMPANY_RESPONSE_CATEGORY  \n",
       "15                          0  \n",
       "23                          0  \n",
       "32                          0  "
      ]
     },
     "execution_count": 192,
     "metadata": {},
     "output_type": "execute_result"
    }
   ],
   "source": [
    "df.head(3)"
   ]
  },
  {
   "cell_type": "code",
   "execution_count": 193,
   "id": "985ea5ad",
   "metadata": {},
   "outputs": [],
   "source": [
    "# Dropping column COMPANY_RESPONSE_CATEGORY\n",
    "df.drop(\"COMPANY_RESPONSE_CATEGORY\",axis=1,inplace=True)"
   ]
  },
  {
   "cell_type": "code",
   "execution_count": 213,
   "id": "9d1b1ce9",
   "metadata": {},
   "outputs": [
    {
     "data": {
      "text/html": [
       "<div>\n",
       "<style scoped>\n",
       "    .dataframe tbody tr th:only-of-type {\n",
       "        vertical-align: middle;\n",
       "    }\n",
       "\n",
       "    .dataframe tbody tr th {\n",
       "        vertical-align: top;\n",
       "    }\n",
       "\n",
       "    .dataframe thead th {\n",
       "        text-align: right;\n",
       "    }\n",
       "</style>\n",
       "<table border=\"1\" class=\"dataframe\">\n",
       "  <thead>\n",
       "    <tr style=\"text-align: right;\">\n",
       "      <th></th>\n",
       "      <th>category</th>\n",
       "      <th>text</th>\n",
       "    </tr>\n",
       "  </thead>\n",
       "  <tbody>\n",
       "    <tr>\n",
       "      <th>15</th>\n",
       "      <td>Closed with monetary relief</td>\n",
       "      <td>On XX/XX/10 my account was negative about {$8....</td>\n",
       "    </tr>\n",
       "  </tbody>\n",
       "</table>\n",
       "</div>"
      ],
      "text/plain": [
       "                       category  \\\n",
       "15  Closed with monetary relief   \n",
       "\n",
       "                                                 text  \n",
       "15  On XX/XX/10 my account was negative about {$8....  "
      ]
     },
     "execution_count": 213,
     "metadata": {},
     "output_type": "execute_result"
    }
   ],
   "source": [
    "df.head(1)"
   ]
  },
  {
   "cell_type": "code",
   "execution_count": 159,
   "id": "96d4218a",
   "metadata": {},
   "outputs": [],
   "source": [
    "# Column Cleaning First. Columns are super nastily named\n",
    "df.rename(columns={'COMPANY_RESPONSE_CATEGORY':'category'\n",
    "                  }, inplace=True)"
   ]
  },
  {
   "cell_type": "code",
   "execution_count": 160,
   "id": "e7fd59e4",
   "metadata": {},
   "outputs": [
    {
     "data": {
      "text/html": [
       "<div>\n",
       "<style scoped>\n",
       "    .dataframe tbody tr th:only-of-type {\n",
       "        vertical-align: middle;\n",
       "    }\n",
       "\n",
       "    .dataframe tbody tr th {\n",
       "        vertical-align: top;\n",
       "    }\n",
       "\n",
       "    .dataframe thead th {\n",
       "        text-align: right;\n",
       "    }\n",
       "</style>\n",
       "<table border=\"1\" class=\"dataframe\">\n",
       "  <thead>\n",
       "    <tr style=\"text-align: right;\">\n",
       "      <th></th>\n",
       "      <th>text</th>\n",
       "      <th>category</th>\n",
       "    </tr>\n",
       "  </thead>\n",
       "  <tbody>\n",
       "    <tr>\n",
       "      <th>15</th>\n",
       "      <td>On XX/XX/10 my account was negative about {$8....</td>\n",
       "      <td>0</td>\n",
       "    </tr>\n",
       "    <tr>\n",
       "      <th>23</th>\n",
       "      <td>MoneyLion told the CFPB on XX/XX/XXXX that the...</td>\n",
       "      <td>0</td>\n",
       "    </tr>\n",
       "    <tr>\n",
       "      <th>32</th>\n",
       "      <td>In XX/XX/2019 I did not receive my billing sta...</td>\n",
       "      <td>0</td>\n",
       "    </tr>\n",
       "  </tbody>\n",
       "</table>\n",
       "</div>"
      ],
      "text/plain": [
       "                                                 text  category\n",
       "15  On XX/XX/10 my account was negative about {$8....         0\n",
       "23  MoneyLion told the CFPB on XX/XX/XXXX that the...         0\n",
       "32  In XX/XX/2019 I did not receive my billing sta...         0"
      ]
     },
     "execution_count": 160,
     "metadata": {},
     "output_type": "execute_result"
    }
   ],
   "source": [
    "df.head(3)"
   ]
  },
  {
   "cell_type": "code",
   "execution_count": null,
   "id": "04938950",
   "metadata": {},
   "outputs": [],
   "source": []
  },
  {
   "cell_type": "code",
   "execution_count": 219,
   "id": "ddbb4e2e",
   "metadata": {},
   "outputs": [],
   "source": [
    "# Text cleaning packages\n",
    "import nltk \n",
    "import re\n",
    "from nltk.corpus import stopwords\n",
    "from nltk.tokenize import RegexpTokenizer"
   ]
  },
  {
   "cell_type": "code",
   "execution_count": 220,
   "id": "cb0f5668",
   "metadata": {},
   "outputs": [
    {
     "name": "stderr",
     "output_type": "stream",
     "text": [
      "[nltk_data] Downloading package stopwords to\n",
      "[nltk_data]     /home/ec2-user/nltk_data...\n",
      "[nltk_data]   Unzipping corpora/stopwords.zip.\n",
      "[nltk_data] Downloading package wordnet to /home/ec2-user/nltk_data...\n"
     ]
    }
   ],
   "source": [
    "nltk.download('stopwords')\n",
    "nltk.download('wordnet')\n",
    "def lem_words(text):\n",
    "    text = text.split()\n",
    "    lemmatizer = nltk.stem.WordNetLemmatizer()\n",
    "    lemmatized_words = [lemmatizer.lemmatize(word) for word in text]\n",
    "    text = \" \".join(lemmatized_words)\n",
    "    return text\n",
    "\n",
    "def make_lower_case(text):\n",
    "    return text.lower()\n",
    "\n",
    "def remove_stop_words(text):\n",
    "    text = text.split()\n",
    "    stops = set(stopwords.words(\"english\"))\n",
    "    text = [w for w in text if not w in stops]\n",
    "    text = \" \".join(text)\n",
    "    return text\n",
    "\n",
    "def remove_punctuation(text):\n",
    "    tokenizer = RegexpTokenizer(r'\\w+')\n",
    "    text = tokenizer.tokenize(text)\n",
    "    text = \" \".join(text)\n",
    "    return text\n"
   ]
  },
  {
   "cell_type": "code",
   "execution_count": 221,
   "id": "aea60930",
   "metadata": {},
   "outputs": [
    {
     "data": {
      "text/html": [
       "<div>\n",
       "<style scoped>\n",
       "    .dataframe tbody tr th:only-of-type {\n",
       "        vertical-align: middle;\n",
       "    }\n",
       "\n",
       "    .dataframe tbody tr th {\n",
       "        vertical-align: top;\n",
       "    }\n",
       "\n",
       "    .dataframe thead th {\n",
       "        text-align: right;\n",
       "    }\n",
       "</style>\n",
       "<table border=\"1\" class=\"dataframe\">\n",
       "  <thead>\n",
       "    <tr style=\"text-align: right;\">\n",
       "      <th></th>\n",
       "      <th>category</th>\n",
       "      <th>text</th>\n",
       "    </tr>\n",
       "  </thead>\n",
       "  <tbody>\n",
       "    <tr>\n",
       "      <th>15</th>\n",
       "      <td>Closed with monetary relief</td>\n",
       "      <td>xx xx 10 account negative 8 00 due pending tra...</td>\n",
       "    </tr>\n",
       "    <tr>\n",
       "      <th>23</th>\n",
       "      <td>Closed with monetary relief</td>\n",
       "      <td>moneylion told cfpb xx xx xxxx would issue bon...</td>\n",
       "    </tr>\n",
       "    <tr>\n",
       "      <th>32</th>\n",
       "      <td>Closed with monetary relief</td>\n",
       "      <td>xx xx 2019 receive billing statement sent wron...</td>\n",
       "    </tr>\n",
       "    <tr>\n",
       "      <th>33</th>\n",
       "      <td>Closed with non-monetary relief</td>\n",
       "      <td>applied credit credit union application declin...</td>\n",
       "    </tr>\n",
       "    <tr>\n",
       "      <th>61</th>\n",
       "      <td>Closed with non-monetary relief</td>\n",
       "      <td>received collection attempt xxxx xxxx xxxx all...</td>\n",
       "    </tr>\n",
       "    <tr>\n",
       "      <th>...</th>\n",
       "      <td>...</td>\n",
       "      <td>...</td>\n",
       "    </tr>\n",
       "    <tr>\n",
       "      <th>500546</th>\n",
       "      <td>Closed with monetary relief</td>\n",
       "      <td>xx xx 2016 received notice on line payment xxx...</td>\n",
       "    </tr>\n",
       "    <tr>\n",
       "      <th>500586</th>\n",
       "      <td>Closed with non-monetary relief</td>\n",
       "      <td>send credit bureau letter informing received c...</td>\n",
       "    </tr>\n",
       "    <tr>\n",
       "      <th>500604</th>\n",
       "      <td>Closed with non-monetary relief</td>\n",
       "      <td>filed complaint experian vacate public record ...</td>\n",
       "    </tr>\n",
       "    <tr>\n",
       "      <th>500606</th>\n",
       "      <td>Closed with monetary relief</td>\n",
       "      <td>xx xx 2017 contacted individual told serving s...</td>\n",
       "    </tr>\n",
       "    <tr>\n",
       "      <th>500610</th>\n",
       "      <td>Closed with monetary relief</td>\n",
       "      <td>bought xxxx airline ticket using credit card b...</td>\n",
       "    </tr>\n",
       "  </tbody>\n",
       "</table>\n",
       "<p>41628 rows × 2 columns</p>\n",
       "</div>"
      ],
      "text/plain": [
       "                               category  \\\n",
       "15          Closed with monetary relief   \n",
       "23          Closed with monetary relief   \n",
       "32          Closed with monetary relief   \n",
       "33      Closed with non-monetary relief   \n",
       "61      Closed with non-monetary relief   \n",
       "...                                 ...   \n",
       "500546      Closed with monetary relief   \n",
       "500586  Closed with non-monetary relief   \n",
       "500604  Closed with non-monetary relief   \n",
       "500606      Closed with monetary relief   \n",
       "500610      Closed with monetary relief   \n",
       "\n",
       "                                                     text  \n",
       "15      xx xx 10 account negative 8 00 due pending tra...  \n",
       "23      moneylion told cfpb xx xx xxxx would issue bon...  \n",
       "32      xx xx 2019 receive billing statement sent wron...  \n",
       "33      applied credit credit union application declin...  \n",
       "61      received collection attempt xxxx xxxx xxxx all...  \n",
       "...                                                   ...  \n",
       "500546  xx xx 2016 received notice on line payment xxx...  \n",
       "500586  send credit bureau letter informing received c...  \n",
       "500604  filed complaint experian vacate public record ...  \n",
       "500606  xx xx 2017 contacted individual told serving s...  \n",
       "500610  bought xxxx airline ticket using credit card b...  \n",
       "\n",
       "[41628 rows x 2 columns]"
      ]
     },
     "execution_count": 221,
     "metadata": {},
     "output_type": "execute_result"
    }
   ],
   "source": [
    "df['text'] = df.text.apply(func=make_lower_case)\n",
    "df['text'] = df.text.apply(func=remove_stop_words)\n",
    "df['text'] = df.text.apply(func=remove_punctuation)\n",
    "df['text'] = df.text.apply(func=lem_words)\n",
    "df"
   ]
  },
  {
   "cell_type": "code",
   "execution_count": 238,
   "id": "1d1b72da",
   "metadata": {},
   "outputs": [
    {
     "data": {
      "text/plain": [
       "category    0.002402\n",
       "text        0.000000\n",
       "dtype: float64"
      ]
     },
     "execution_count": 238,
     "metadata": {},
     "output_type": "execute_result"
    }
   ],
   "source": [
    "# Percentage of missing column values\n",
    "null_check_percent = df.isnull().sum() * 100 / len(df)\n",
    "null_check_percent"
   ]
  },
  {
   "cell_type": "code",
   "execution_count": 239,
   "id": "11d06a02",
   "metadata": {},
   "outputs": [
    {
     "data": {
      "text/plain": [
       "category    0.0\n",
       "text        0.0\n",
       "dtype: float64"
      ]
     },
     "execution_count": 239,
     "metadata": {},
     "output_type": "execute_result"
    }
   ],
   "source": [
    "# remove articles with missing \"category\"\n",
    "df = df.dropna(subset = ['category'])\n",
    "df = df.reset_index(drop = True)\n",
    "null_check_percent = df.isnull().sum() * 100 / len(df)\n",
    "null_check_percent\n"
   ]
  },
  {
   "cell_type": "code",
   "execution_count": 240,
   "id": "dac690d2",
   "metadata": {},
   "outputs": [],
   "source": [
    "df['text'] = df.text.astype(str)"
   ]
  },
  {
   "cell_type": "code",
   "execution_count": 241,
   "id": "63c1921d",
   "metadata": {},
   "outputs": [
    {
     "data": {
      "text/html": [
       "<div>\n",
       "<style scoped>\n",
       "    .dataframe tbody tr th:only-of-type {\n",
       "        vertical-align: middle;\n",
       "    }\n",
       "\n",
       "    .dataframe tbody tr th {\n",
       "        vertical-align: top;\n",
       "    }\n",
       "\n",
       "    .dataframe thead th {\n",
       "        text-align: right;\n",
       "    }\n",
       "</style>\n",
       "<table border=\"1\" class=\"dataframe\">\n",
       "  <thead>\n",
       "    <tr style=\"text-align: right;\">\n",
       "      <th></th>\n",
       "      <th>category</th>\n",
       "      <th>text</th>\n",
       "    </tr>\n",
       "  </thead>\n",
       "  <tbody>\n",
       "    <tr>\n",
       "      <th>0</th>\n",
       "      <td>Closed with monetary relief</td>\n",
       "      <td>xx xx 10 account negative 8 00 due pending tra...</td>\n",
       "    </tr>\n",
       "    <tr>\n",
       "      <th>1</th>\n",
       "      <td>Closed with monetary relief</td>\n",
       "      <td>moneylion told cfpb xx xx xxxx would issue bon...</td>\n",
       "    </tr>\n",
       "    <tr>\n",
       "      <th>2</th>\n",
       "      <td>Closed with monetary relief</td>\n",
       "      <td>xx xx 2019 receive billing statement sent wron...</td>\n",
       "    </tr>\n",
       "  </tbody>\n",
       "</table>\n",
       "</div>"
      ],
      "text/plain": [
       "                      category  \\\n",
       "0  Closed with monetary relief   \n",
       "1  Closed with monetary relief   \n",
       "2  Closed with monetary relief   \n",
       "\n",
       "                                                text  \n",
       "0  xx xx 10 account negative 8 00 due pending tra...  \n",
       "1  moneylion told cfpb xx xx xxxx would issue bon...  \n",
       "2  xx xx 2019 receive billing statement sent wron...  "
      ]
     },
     "execution_count": 241,
     "metadata": {},
     "output_type": "execute_result"
    }
   ],
   "source": [
    "df.head(3)"
   ]
  },
  {
   "cell_type": "code",
   "execution_count": 242,
   "id": "28dbeefe",
   "metadata": {},
   "outputs": [],
   "source": [
    "tokenizer = BertTokenizer.from_pretrained('bert-base-cased')\n",
    "labels = {'Closed with non-monetary relief':0,\n",
    "          'Closed with monetary relief':1,\n",
    "          }"
   ]
  },
  {
   "cell_type": "code",
   "execution_count": null,
   "id": "2bd416f1",
   "metadata": {},
   "outputs": [],
   "source": []
  },
  {
   "cell_type": "code",
   "execution_count": 243,
   "id": "1bfbdaa5",
   "metadata": {},
   "outputs": [],
   "source": [
    "class Dataset(torch.utils.data.Dataset):\n",
    "\n",
    "    def __init__(self, df):\n",
    "\n",
    "        self.labels = [labels[label] for label in df['category']]\n",
    "        self.texts = [tokenizer(text, \n",
    "                               padding='max_length', max_length = 512, truncation=True,\n",
    "                                return_tensors=\"pt\") for text in df['text']]\n",
    "\n",
    "    def classes(self):\n",
    "        return self.labels\n",
    "\n",
    "    def __len__(self):\n",
    "        return len(self.labels)\n",
    "\n",
    "    def get_batch_labels(self, idx):\n",
    "        # Fetch a batch of labels\n",
    "        return np.array(self.labels[idx])\n",
    "\n",
    "    def get_batch_texts(self, idx):\n",
    "        # Fetch a batch of inputs\n",
    "        return self.texts[idx]\n",
    "\n",
    "    def __getitem__(self, idx):\n",
    "\n",
    "        batch_texts = self.get_batch_texts(idx)\n",
    "        batch_y = self.get_batch_labels(idx)\n",
    "\n",
    "        return batch_texts, batch_y"
   ]
  },
  {
   "cell_type": "code",
   "execution_count": 244,
   "id": "a4bfa87f",
   "metadata": {},
   "outputs": [],
   "source": [
    "class BertClassifier(nn.Module):\n",
    "\n",
    "    def __init__(self, dropout=0.5):\n",
    "\n",
    "        super(BertClassifier, self).__init__()\n",
    "\n",
    "        self.bert = BertModel.from_pretrained('bert-base-cased')\n",
    "        self.dropout = nn.Dropout(dropout)\n",
    "        self.linear = nn.Linear(768, len(labels))\n",
    "        self.relu = nn.ReLU()\n",
    "\n",
    "    def forward(self, input_id, mask):\n",
    "\n",
    "        _, pooled_output = self.bert(input_ids= input_id, attention_mask=mask,return_dict=False)\n",
    "        dropout_output = self.dropout(pooled_output)\n",
    "        linear_output = self.linear(dropout_output)\n",
    "        final_layer = self.relu(linear_output)\n",
    "\n",
    "        return final_layer"
   ]
  },
  {
   "cell_type": "code",
   "execution_count": 245,
   "id": "b709bfb3",
   "metadata": {},
   "outputs": [],
   "source": [
    "def train(model, train_data, val_data, learning_rate, epochs):\n",
    "\n",
    "    train, val = Dataset(train_data), Dataset(val_data)\n",
    "\n",
    "    train_dataloader = torch.utils.data.DataLoader(train, batch_size=2, shuffle=True)\n",
    "    val_dataloader = torch.utils.data.DataLoader(val, batch_size=2)\n",
    "\n",
    "    use_cuda = torch.cuda.is_available()\n",
    "    device = torch.device(\"cuda\" if use_cuda else \"cpu\")\n",
    "\n",
    "    criterion = nn.CrossEntropyLoss()\n",
    "    optimizer = Adam(model.parameters(), lr= learning_rate)\n",
    "\n",
    "    if use_cuda:\n",
    "\n",
    "            model = model.cuda()\n",
    "            criterion = criterion.cuda()\n",
    "\n",
    "    for epoch_num in range(epochs):\n",
    "\n",
    "            total_acc_train = 0\n",
    "            total_loss_train = 0\n",
    "\n",
    "            for train_input, train_label in tqdm(train_dataloader):\n",
    "\n",
    "                train_label = train_label.to(device)\n",
    "                mask = train_input['attention_mask'].to(device)\n",
    "                input_id = train_input['input_ids'].squeeze(1).to(device)\n",
    "\n",
    "                output = model(input_id, mask)\n",
    "                \n",
    "                batch_loss = criterion(output, train_label.long())\n",
    "                total_loss_train += batch_loss.item()\n",
    "                \n",
    "                acc = (output.argmax(dim=1) == train_label).sum().item()\n",
    "                total_acc_train += acc\n",
    "\n",
    "                model.zero_grad()\n",
    "                batch_loss.backward()\n",
    "                optimizer.step()\n",
    "            \n",
    "            total_acc_val = 0\n",
    "            total_loss_val = 0\n",
    "\n",
    "            with torch.no_grad():\n",
    "\n",
    "                for val_input, val_label in val_dataloader:\n",
    "\n",
    "                    val_label = val_label.to(device)\n",
    "                    mask = val_input['attention_mask'].to(device)\n",
    "                    input_id = val_input['input_ids'].squeeze(1).to(device)\n",
    "\n",
    "                    output = model(input_id, mask)\n",
    "\n",
    "                    batch_loss = criterion(output, val_label.long())\n",
    "                    total_loss_val += batch_loss.item()\n",
    "                    \n",
    "                    acc = (output.argmax(dim=1) == val_label).sum().item()\n",
    "                    total_acc_val += acc\n",
    "            \n",
    "            print(\n",
    "                f'Epochs: {epoch_num + 1} | Train Loss: {total_loss_train / len(train_data): .3f} | Train Accuracy: {total_acc_train / len(train_data): .3f} | Val Loss: {total_loss_val / len(val_data): .3f} | Val Accuracy: {total_acc_val / len(val_data): .3f}')\n",
    "                  "
   ]
  },
  {
   "cell_type": "code",
   "execution_count": 246,
   "id": "24aac402",
   "metadata": {},
   "outputs": [],
   "source": [
    "def evaluate(model, test_data):\n",
    "\n",
    "    test = Dataset(test_data)\n",
    "\n",
    "    test_dataloader = torch.utils.data.DataLoader(test, batch_size=2)\n",
    "\n",
    "    use_cuda = torch.cuda.is_available()\n",
    "    device = torch.device(\"cuda\" if use_cuda else \"cpu\")\n",
    "\n",
    "    if use_cuda:\n",
    "\n",
    "        model = model.cuda()\n",
    "\n",
    "    total_acc_test = 0\n",
    "    with torch.no_grad():\n",
    "\n",
    "        for test_input, test_label in test_dataloader:\n",
    "\n",
    "              test_label = test_label.to(device)\n",
    "              mask = test_input['attention_mask'].to(device)\n",
    "              input_id = test_input['input_ids'].squeeze(1).to(device)\n",
    "\n",
    "              output = model(input_id, mask)\n",
    "\n",
    "              acc = (output.argmax(dim=1) == test_label).sum().item()\n",
    "              total_acc_test += acc\n",
    "    \n",
    "    print(f'Test Accuracy: {total_acc_test / len(test_data): .3f}')"
   ]
  },
  {
   "cell_type": "code",
   "execution_count": 247,
   "id": "8b558b70",
   "metadata": {},
   "outputs": [
    {
     "name": "stdout",
     "output_type": "stream",
     "text": [
      "33301 4163 4163\n"
     ]
    }
   ],
   "source": [
    "np.random.seed(112)\n",
    "df_train, df_val, df_test = np.split(df.sample(frac=1, random_state=42), \n",
    "                                     [int(.8*len(df)), int(.9*len(df))])\n",
    "\n",
    "print(len(df_train),len(df_val), len(df_test))"
   ]
  },
  {
   "cell_type": "code",
   "execution_count": null,
   "id": "6933b98e",
   "metadata": {},
   "outputs": [
    {
     "name": "stderr",
     "output_type": "stream",
     "text": [
      "Some weights of the model checkpoint at bert-base-cased were not used when initializing BertModel: ['cls.predictions.transform.dense.bias', 'cls.predictions.transform.LayerNorm.weight', 'cls.seq_relationship.bias', 'cls.predictions.bias', 'cls.predictions.transform.dense.weight', 'cls.predictions.transform.LayerNorm.bias', 'cls.seq_relationship.weight', 'cls.predictions.decoder.weight']\n",
      "- This IS expected if you are initializing BertModel from the checkpoint of a model trained on another task or with another architecture (e.g. initializing a BertForSequenceClassification model from a BertForPreTraining model).\n",
      "- This IS NOT expected if you are initializing BertModel from the checkpoint of a model that you expect to be exactly identical (initializing a BertForSequenceClassification model from a BertForSequenceClassification model).\n",
      " 81%|████████▏ | 13541/16651 [1:53:38<25:11,  2.06it/s] "
     ]
    }
   ],
   "source": [
    "EPOCHS = 5\n",
    "model = BertClassifier()\n",
    "LR = 1e-6\n",
    "              \n",
    "train(model, df_train, df_val, LR, EPOCHS)"
   ]
  },
  {
   "cell_type": "code",
   "execution_count": null,
   "id": "6c3f03b8",
   "metadata": {},
   "outputs": [],
   "source": [
    "evaluate(model, df_test)"
   ]
  },
  {
   "cell_type": "markdown",
   "id": "17a9246a",
   "metadata": {},
   "source": [
    "# Saving & Loading Model for Inference"
   ]
  },
  {
   "cell_type": "code",
   "execution_count": null,
   "id": "7370bd74",
   "metadata": {},
   "outputs": [],
   "source": [
    "#bucket ='bert-readability'\n",
    "#data_key = 'text-classification'\n",
    "#data_location = 's3://{}/{}'.format(bucket, data_key)\n"
   ]
  },
  {
   "cell_type": "code",
   "execution_count": null,
   "id": "e2316e86",
   "metadata": {},
   "outputs": [],
   "source": [
    "torch.save(model.state_dict(), data_location)"
   ]
  },
  {
   "cell_type": "code",
   "execution_count": null,
   "id": "3276041d",
   "metadata": {},
   "outputs": [],
   "source": [
    "model = TheModelClass(*args, **kwargs)\n",
    "model.load_state_dict(torch.load(data_location))\n",
    "model.eval()  "
   ]
  }
 ],
 "metadata": {
  "kernelspec": {
   "display_name": "conda_pytorch_p38",
   "language": "python",
   "name": "conda_pytorch_p38"
  },
  "language_info": {
   "codemirror_mode": {
    "name": "ipython",
    "version": 3
   },
   "file_extension": ".py",
   "mimetype": "text/x-python",
   "name": "python",
   "nbconvert_exporter": "python",
   "pygments_lexer": "ipython3",
   "version": "3.8.12"
  }
 },
 "nbformat": 4,
 "nbformat_minor": 5
}
